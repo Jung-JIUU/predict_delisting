{
 "cells": [
  {
   "cell_type": "code",
   "execution_count": 15,
   "metadata": {},
   "outputs": [],
   "source": [
    "# 코스피, 코스탁 데이터만 가져오기\n",
    "\n",
    "import pandas as pd\n",
    "\n",
    "df = pd.read_csv(\"C:/project/company/report_num.csv\")\n",
    "df['rpt_nm'] = df['rpt_nm'].str.extract('([가-힣]+보고서.+)')\n",
    "df= df.set_index(['crp_cls'])\n",
    "df= df.drop(['E','N'])\n",
    "df = df.reset_index()\n",
    "df= df.drop(['Unnamed: 0'],axis=1)\n",
    "df.to_csv(\"C:/project/yk_cmp_rpt.csv\")\n"
   ]
  }
 ],
 "metadata": {
  "kernelspec": {
   "display_name": "Python 3",
   "language": "python",
   "name": "python3"
  },
  "language_info": {
   "codemirror_mode": {
    "name": "ipython",
    "version": 3
   },
   "file_extension": ".py",
   "mimetype": "text/x-python",
   "name": "python",
   "nbconvert_exporter": "python",
   "pygments_lexer": "ipython3",
   "version": "3.6.7"
  }
 },
 "nbformat": 4,
 "nbformat_minor": 2
}
